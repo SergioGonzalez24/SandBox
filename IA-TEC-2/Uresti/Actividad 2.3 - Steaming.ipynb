{
 "cells": [
  {
   "cell_type": "code",
   "execution_count": 146,
   "id": "821d21159900a1b",
   "metadata": {
    "collapsed": false,
    "ExecuteTime": {
     "end_time": "2024-04-13T01:58:06.177386Z",
     "start_time": "2024-04-13T01:58:06.148782Z"
    }
   },
   "outputs": [],
   "source": [
    "import nltk\n",
    "from nltk.stem import SnowballStemmer\n",
    "from nltk.util import ngrams\n",
    "from sklearn.metrics import pairwise\n",
    "from sklearn.metrics.pairwise import cosine_similarity\n",
    "from sklearn.feature_extraction.text import TfidfVectorizer\n",
    "from sklearn.feature_extraction.text import CountVectorizer\n",
    "from sklearn.metrics.pairwise import cosine_similarity\n",
    "import re"
   ]
  },
  {
   "cell_type": "code",
   "execution_count": 147,
   "id": "606029e32d780d6f",
   "metadata": {
    "collapsed": false,
    "ExecuteTime": {
     "end_time": "2024-04-13T01:58:06.372312Z",
     "start_time": "2024-04-13T01:58:06.152850Z"
    }
   },
   "outputs": [
    {
     "name": "stderr",
     "output_type": "stream",
     "text": [
      "[nltk_data] Downloading package punkt to\n",
      "[nltk_data]     /Users/sergiogonzalez/nltk_data...\n",
      "[nltk_data]   Package punkt is already up-to-date!\n"
     ]
    },
    {
     "data": {
      "text/plain": "True"
     },
     "execution_count": 147,
     "metadata": {},
     "output_type": "execute_result"
    }
   ],
   "source": [
    "nltk.download('punkt')"
   ]
  },
  {
   "cell_type": "markdown",
   "id": "edc8dc5815727454",
   "metadata": {
    "collapsed": false
   },
   "source": [
    "### Recibe 3 parrafos con  3 oraciones"
   ]
  },
  {
   "cell_type": "code",
   "execution_count": 148,
   "id": "17d2d6afe9f10942",
   "metadata": {
    "collapsed": false,
    "ExecuteTime": {
     "end_time": "2024-04-13T01:58:06.377170Z",
     "start_time": "2024-04-13T01:58:06.372398Z"
    }
   },
   "outputs": [],
   "source": [
    "# parrafo_1 = \"Esta es una prueba. De los famosos n-gramas. Se esta usando NLTK.\"\n",
    "# parrafo_2 = \"Esta es otra prueba. Esto es para el ejercicio. Usando n-gramas en clase.\""
   ]
  },
  {
   "cell_type": "code",
   "execution_count": 149,
   "outputs": [],
   "source": [
    "parrafo_1 = \"Artificial intelligence (AI) mirrors human intelligence by enabling machines to execute tasks traditionally handled by humans, leveraging technologies like machine learning and neural networks. While AI systems can adapt and improve through learning, concerns persist regarding ethical implications such as privacy infringement and biases in decision-making. As AI continues to evolve, responsible development practices become imperative to navigate its societal impact.\"\n",
    "parrafo_2 = \"Artificial intelligence (AI) mirrors people intelligence by functioning machines to execute tasks traditionally handled by people, leveraging technologies like machine learning and neural networks. While AI systems can transform and improve through learning, issues persist regarding ethical implications such as privacy infringement and biases in decision-making. As AI continues to grow, responsible development practices become necessary to navigate its societal impact.\""
   ],
   "metadata": {
    "collapsed": false,
    "ExecuteTime": {
     "end_time": "2024-04-13T01:58:06.377267Z",
     "start_time": "2024-04-13T01:58:06.374364Z"
    }
   },
   "id": "78221cb7c2f543ed"
  },
  {
   "cell_type": "markdown",
   "id": "443c8bcfeed9012c",
   "metadata": {
    "collapsed": false
   },
   "source": [
    "### Utiliza steaming para pre-procesar el texto"
   ]
  },
  {
   "cell_type": "code",
   "execution_count": 150,
   "id": "8a2741bd549a68bd",
   "metadata": {
    "collapsed": false,
    "ExecuteTime": {
     "end_time": "2024-04-13T01:58:06.378546Z",
     "start_time": "2024-04-13T01:58:06.376918Z"
    }
   },
   "outputs": [],
   "source": [
    "def pre_procesamiento(parrafo):\n",
    "    parrafo = re.sub(r'[^\\w\\s]', '', parrafo)\n",
    "    tokenized_text = nltk.word_tokenize(parrafo)\n",
    "    stemmer = SnowballStemmer(\"english\")\n",
    "    stemmed_text = [stemmer.stem(word) for word in tokenized_text]\n",
    "    # stemmed_text = ' '.join([stemmer.stem(word) for word in tokenized_text])\n",
    "    return stemmed_text"
   ]
  },
  {
   "cell_type": "code",
   "execution_count": 151,
   "id": "97b52ffa16a1d96a",
   "metadata": {
    "collapsed": false,
    "ExecuteTime": {
     "end_time": "2024-04-13T01:58:06.382905Z",
     "start_time": "2024-04-13T01:58:06.379771Z"
    }
   },
   "outputs": [
    {
     "name": "stdout",
     "output_type": "stream",
     "text": [
      "[['artifici', 'intellig', 'ai', 'mirror', 'human', 'intellig', 'by', 'enabl', 'machin', 'to', 'execut', 'task', 'tradit', 'handl', 'by', 'human', 'leverag', 'technolog', 'like', 'machin', 'learn', 'and', 'neural', 'network', 'while', 'ai', 'system', 'can', 'adapt', 'and', 'improv', 'through', 'learn', 'concern', 'persist', 'regard', 'ethic', 'implic', 'such', 'as', 'privaci', 'infring', 'and', 'bias', 'in', 'decisionmak', 'as', 'ai', 'continu', 'to', 'evolv', 'respons', 'develop', 'practic', 'becom', 'imper', 'to', 'navig', 'it', 'societ', 'impact'], ['artifici', 'intellig', 'ai', 'mirror', 'peopl', 'intellig', 'by', 'function', 'machin', 'to', 'execut', 'task', 'tradit', 'handl', 'by', 'peopl', 'leverag', 'technolog', 'like', 'machin', 'learn', 'and', 'neural', 'network', 'while', 'ai', 'system', 'can', 'transform', 'and', 'improv', 'through', 'learn', 'issu', 'persist', 'regard', 'ethic', 'implic', 'such', 'as', 'privaci', 'infring', 'and', 'bias', 'in', 'decisionmak', 'as', 'ai', 'continu', 'to', 'grow', 'respons', 'develop', 'practic', 'becom', 'necessari', 'to', 'navig', 'it', 'societ', 'impact']]\n"
     ]
    }
   ],
   "source": [
    "parrafos = [parrafo_1, parrafo_2]\n",
    "pre_procesados = [pre_procesamiento(parrafo) for parrafo in parrafos]\n",
    "print(pre_procesados)"
   ]
  },
  {
   "cell_type": "markdown",
   "id": "546a15aa92b4eaff",
   "metadata": {
    "collapsed": false
   },
   "source": [
    "### Calcula la distancia entre parrafos usando Unigramas, trigramas y bigramas"
   ]
  },
  {
   "cell_type": "code",
   "execution_count": 152,
   "id": "ca9e75955fdaf70",
   "metadata": {
    "collapsed": false,
    "ExecuteTime": {
     "end_time": "2024-04-13T01:58:06.383851Z",
     "start_time": "2024-04-13T01:58:06.381977Z"
    }
   },
   "outputs": [],
   "source": [
    "def connvertidor_ngrams(parrafo, n):\n",
    "    return list(nltk.ngrams(parrafo, n))"
   ]
  },
  {
   "cell_type": "code",
   "execution_count": 153,
   "id": "85b8ebe09750b299",
   "metadata": {
    "collapsed": false,
    "ExecuteTime": {
     "end_time": "2024-04-13T01:58:06.388064Z",
     "start_time": "2024-04-13T01:58:06.384338Z"
    }
   },
   "outputs": [
    {
     "name": "stdout",
     "output_type": "stream",
     "text": [
      "UNIGRAMAS:  [[('artifici',), ('intellig',), ('ai',), ('mirror',), ('human',), ('intellig',), ('by',), ('enabl',), ('machin',), ('to',), ('execut',), ('task',), ('tradit',), ('handl',), ('by',), ('human',), ('leverag',), ('technolog',), ('like',), ('machin',), ('learn',), ('and',), ('neural',), ('network',), ('while',), ('ai',), ('system',), ('can',), ('adapt',), ('and',), ('improv',), ('through',), ('learn',), ('concern',), ('persist',), ('regard',), ('ethic',), ('implic',), ('such',), ('as',), ('privaci',), ('infring',), ('and',), ('bias',), ('in',), ('decisionmak',), ('as',), ('ai',), ('continu',), ('to',), ('evolv',), ('respons',), ('develop',), ('practic',), ('becom',), ('imper',), ('to',), ('navig',), ('it',), ('societ',), ('impact',)], [('artifici',), ('intellig',), ('ai',), ('mirror',), ('peopl',), ('intellig',), ('by',), ('function',), ('machin',), ('to',), ('execut',), ('task',), ('tradit',), ('handl',), ('by',), ('peopl',), ('leverag',), ('technolog',), ('like',), ('machin',), ('learn',), ('and',), ('neural',), ('network',), ('while',), ('ai',), ('system',), ('can',), ('transform',), ('and',), ('improv',), ('through',), ('learn',), ('issu',), ('persist',), ('regard',), ('ethic',), ('implic',), ('such',), ('as',), ('privaci',), ('infring',), ('and',), ('bias',), ('in',), ('decisionmak',), ('as',), ('ai',), ('continu',), ('to',), ('grow',), ('respons',), ('develop',), ('practic',), ('becom',), ('necessari',), ('to',), ('navig',), ('it',), ('societ',), ('impact',)]]\n",
      "\n",
      "\n",
      "BIGRAMAS:  [[('artifici', 'intellig'), ('intellig', 'ai'), ('ai', 'mirror'), ('mirror', 'human'), ('human', 'intellig'), ('intellig', 'by'), ('by', 'enabl'), ('enabl', 'machin'), ('machin', 'to'), ('to', 'execut'), ('execut', 'task'), ('task', 'tradit'), ('tradit', 'handl'), ('handl', 'by'), ('by', 'human'), ('human', 'leverag'), ('leverag', 'technolog'), ('technolog', 'like'), ('like', 'machin'), ('machin', 'learn'), ('learn', 'and'), ('and', 'neural'), ('neural', 'network'), ('network', 'while'), ('while', 'ai'), ('ai', 'system'), ('system', 'can'), ('can', 'adapt'), ('adapt', 'and'), ('and', 'improv'), ('improv', 'through'), ('through', 'learn'), ('learn', 'concern'), ('concern', 'persist'), ('persist', 'regard'), ('regard', 'ethic'), ('ethic', 'implic'), ('implic', 'such'), ('such', 'as'), ('as', 'privaci'), ('privaci', 'infring'), ('infring', 'and'), ('and', 'bias'), ('bias', 'in'), ('in', 'decisionmak'), ('decisionmak', 'as'), ('as', 'ai'), ('ai', 'continu'), ('continu', 'to'), ('to', 'evolv'), ('evolv', 'respons'), ('respons', 'develop'), ('develop', 'practic'), ('practic', 'becom'), ('becom', 'imper'), ('imper', 'to'), ('to', 'navig'), ('navig', 'it'), ('it', 'societ'), ('societ', 'impact')], [('artifici', 'intellig'), ('intellig', 'ai'), ('ai', 'mirror'), ('mirror', 'peopl'), ('peopl', 'intellig'), ('intellig', 'by'), ('by', 'function'), ('function', 'machin'), ('machin', 'to'), ('to', 'execut'), ('execut', 'task'), ('task', 'tradit'), ('tradit', 'handl'), ('handl', 'by'), ('by', 'peopl'), ('peopl', 'leverag'), ('leverag', 'technolog'), ('technolog', 'like'), ('like', 'machin'), ('machin', 'learn'), ('learn', 'and'), ('and', 'neural'), ('neural', 'network'), ('network', 'while'), ('while', 'ai'), ('ai', 'system'), ('system', 'can'), ('can', 'transform'), ('transform', 'and'), ('and', 'improv'), ('improv', 'through'), ('through', 'learn'), ('learn', 'issu'), ('issu', 'persist'), ('persist', 'regard'), ('regard', 'ethic'), ('ethic', 'implic'), ('implic', 'such'), ('such', 'as'), ('as', 'privaci'), ('privaci', 'infring'), ('infring', 'and'), ('and', 'bias'), ('bias', 'in'), ('in', 'decisionmak'), ('decisionmak', 'as'), ('as', 'ai'), ('ai', 'continu'), ('continu', 'to'), ('to', 'grow'), ('grow', 'respons'), ('respons', 'develop'), ('develop', 'practic'), ('practic', 'becom'), ('becom', 'necessari'), ('necessari', 'to'), ('to', 'navig'), ('navig', 'it'), ('it', 'societ'), ('societ', 'impact')]]\n",
      "\n",
      "\n",
      "TRIGRAMAS:  [[('artifici', 'intellig', 'ai'), ('intellig', 'ai', 'mirror'), ('ai', 'mirror', 'human'), ('mirror', 'human', 'intellig'), ('human', 'intellig', 'by'), ('intellig', 'by', 'enabl'), ('by', 'enabl', 'machin'), ('enabl', 'machin', 'to'), ('machin', 'to', 'execut'), ('to', 'execut', 'task'), ('execut', 'task', 'tradit'), ('task', 'tradit', 'handl'), ('tradit', 'handl', 'by'), ('handl', 'by', 'human'), ('by', 'human', 'leverag'), ('human', 'leverag', 'technolog'), ('leverag', 'technolog', 'like'), ('technolog', 'like', 'machin'), ('like', 'machin', 'learn'), ('machin', 'learn', 'and'), ('learn', 'and', 'neural'), ('and', 'neural', 'network'), ('neural', 'network', 'while'), ('network', 'while', 'ai'), ('while', 'ai', 'system'), ('ai', 'system', 'can'), ('system', 'can', 'adapt'), ('can', 'adapt', 'and'), ('adapt', 'and', 'improv'), ('and', 'improv', 'through'), ('improv', 'through', 'learn'), ('through', 'learn', 'concern'), ('learn', 'concern', 'persist'), ('concern', 'persist', 'regard'), ('persist', 'regard', 'ethic'), ('regard', 'ethic', 'implic'), ('ethic', 'implic', 'such'), ('implic', 'such', 'as'), ('such', 'as', 'privaci'), ('as', 'privaci', 'infring'), ('privaci', 'infring', 'and'), ('infring', 'and', 'bias'), ('and', 'bias', 'in'), ('bias', 'in', 'decisionmak'), ('in', 'decisionmak', 'as'), ('decisionmak', 'as', 'ai'), ('as', 'ai', 'continu'), ('ai', 'continu', 'to'), ('continu', 'to', 'evolv'), ('to', 'evolv', 'respons'), ('evolv', 'respons', 'develop'), ('respons', 'develop', 'practic'), ('develop', 'practic', 'becom'), ('practic', 'becom', 'imper'), ('becom', 'imper', 'to'), ('imper', 'to', 'navig'), ('to', 'navig', 'it'), ('navig', 'it', 'societ'), ('it', 'societ', 'impact')], [('artifici', 'intellig', 'ai'), ('intellig', 'ai', 'mirror'), ('ai', 'mirror', 'peopl'), ('mirror', 'peopl', 'intellig'), ('peopl', 'intellig', 'by'), ('intellig', 'by', 'function'), ('by', 'function', 'machin'), ('function', 'machin', 'to'), ('machin', 'to', 'execut'), ('to', 'execut', 'task'), ('execut', 'task', 'tradit'), ('task', 'tradit', 'handl'), ('tradit', 'handl', 'by'), ('handl', 'by', 'peopl'), ('by', 'peopl', 'leverag'), ('peopl', 'leverag', 'technolog'), ('leverag', 'technolog', 'like'), ('technolog', 'like', 'machin'), ('like', 'machin', 'learn'), ('machin', 'learn', 'and'), ('learn', 'and', 'neural'), ('and', 'neural', 'network'), ('neural', 'network', 'while'), ('network', 'while', 'ai'), ('while', 'ai', 'system'), ('ai', 'system', 'can'), ('system', 'can', 'transform'), ('can', 'transform', 'and'), ('transform', 'and', 'improv'), ('and', 'improv', 'through'), ('improv', 'through', 'learn'), ('through', 'learn', 'issu'), ('learn', 'issu', 'persist'), ('issu', 'persist', 'regard'), ('persist', 'regard', 'ethic'), ('regard', 'ethic', 'implic'), ('ethic', 'implic', 'such'), ('implic', 'such', 'as'), ('such', 'as', 'privaci'), ('as', 'privaci', 'infring'), ('privaci', 'infring', 'and'), ('infring', 'and', 'bias'), ('and', 'bias', 'in'), ('bias', 'in', 'decisionmak'), ('in', 'decisionmak', 'as'), ('decisionmak', 'as', 'ai'), ('as', 'ai', 'continu'), ('ai', 'continu', 'to'), ('continu', 'to', 'grow'), ('to', 'grow', 'respons'), ('grow', 'respons', 'develop'), ('respons', 'develop', 'practic'), ('develop', 'practic', 'becom'), ('practic', 'becom', 'necessari'), ('becom', 'necessari', 'to'), ('necessari', 'to', 'navig'), ('to', 'navig', 'it'), ('navig', 'it', 'societ'), ('it', 'societ', 'impact')]]\n"
     ]
    }
   ],
   "source": [
    "unigramas = [connvertidor_ngrams(parrafo, 1) for parrafo in pre_procesados]\n",
    "bigramas = [connvertidor_ngrams(parrafo, 2) for parrafo in pre_procesados]\n",
    "trigramas = [connvertidor_ngrams(parrafo, 3) for parrafo in pre_procesados]\n",
    "\n",
    "print(\"UNIGRAMAS: \", unigramas)\n",
    "print(\"\\n\")\n",
    "print(\"BIGRAMAS: \", bigramas)\n",
    "print(\"\\n\")\n",
    "print(\"TRIGRAMAS: \", trigramas)"
   ]
  },
  {
   "cell_type": "code",
   "execution_count": 154,
   "outputs": [],
   "source": [
    "# Code Made by Gala Flores\n",
    "# Modified by: Sergio Gonzalez\n",
    "def generador_de_matriz(gramas_1 ,gramas_2):\n",
    "    palabras_conjuntas = set(gramas_1 + gramas_2)\n",
    "    parrafos = [gramas_1, gramas_2]\n",
    "    matriz = []\n",
    "    \n",
    "    for parrafo in parrafos:\n",
    "        vector = []\n",
    "        for palabra in palabras_conjuntas:\n",
    "            vector.append(1 if palabra in parrafo else 0)\n",
    "        matriz.append(vector)\n",
    "    return matriz"
   ],
   "metadata": {
    "collapsed": false,
    "ExecuteTime": {
     "end_time": "2024-04-13T01:58:06.388582Z",
     "start_time": "2024-04-13T01:58:06.386540Z"
    }
   },
   "id": "3941f6136af8621a"
  },
  {
   "cell_type": "code",
   "execution_count": 155,
   "id": "12e94ba5e60e01be",
   "metadata": {
    "collapsed": false,
    "ExecuteTime": {
     "end_time": "2024-04-13T01:58:06.393006Z",
     "start_time": "2024-04-13T01:58:06.388652Z"
    }
   },
   "outputs": [],
   "source": [
    "matriz_unigramas = generador_de_matriz(unigramas[0], unigramas[1])\n",
    "matriz_bigramas = generador_de_matriz(bigramas[0], bigramas[1])\n",
    "matriz_trigramas = generador_de_matriz(trigramas[0], trigramas[1])"
   ]
  },
  {
   "cell_type": "code",
   "execution_count": 156,
   "id": "970a02d84445e4f1",
   "metadata": {
    "collapsed": false,
    "ExecuteTime": {
     "end_time": "2024-04-13T01:58:06.426240Z",
     "start_time": "2024-04-13T01:58:06.392112Z"
    }
   },
   "outputs": [
    {
     "data": {
      "text/plain": "[[1,\n  1,\n  1,\n  1,\n  1,\n  1,\n  1,\n  0,\n  1,\n  1,\n  1,\n  1,\n  1,\n  1,\n  0,\n  0,\n  1,\n  1,\n  1,\n  1,\n  1,\n  1,\n  1,\n  1,\n  1,\n  1,\n  1,\n  1,\n  0,\n  1,\n  1,\n  0,\n  1,\n  1,\n  1,\n  1,\n  0,\n  1,\n  1,\n  1,\n  1,\n  1,\n  1,\n  1,\n  1,\n  1,\n  1,\n  1,\n  1,\n  1,\n  1,\n  1,\n  1,\n  1,\n  1],\n [1,\n  1,\n  1,\n  1,\n  1,\n  0,\n  0,\n  1,\n  1,\n  1,\n  1,\n  1,\n  1,\n  1,\n  1,\n  1,\n  1,\n  1,\n  1,\n  1,\n  1,\n  1,\n  1,\n  0,\n  1,\n  1,\n  1,\n  1,\n  1,\n  1,\n  0,\n  1,\n  1,\n  1,\n  1,\n  1,\n  1,\n  1,\n  1,\n  1,\n  1,\n  1,\n  0,\n  1,\n  1,\n  1,\n  1,\n  1,\n  1,\n  1,\n  1,\n  1,\n  0,\n  1,\n  1]]"
     },
     "execution_count": 156,
     "metadata": {},
     "output_type": "execute_result"
    }
   ],
   "source": [
    "matriz_unigramas"
   ]
  },
  {
   "cell_type": "code",
   "execution_count": 157,
   "id": "3e5fb262f4baeb20",
   "metadata": {
    "collapsed": false,
    "ExecuteTime": {
     "end_time": "2024-04-13T01:58:06.426530Z",
     "start_time": "2024-04-13T01:58:06.394673Z"
    }
   },
   "outputs": [
    {
     "data": {
      "text/plain": "[[0,\n  1,\n  0,\n  1,\n  1,\n  1,\n  1,\n  1,\n  1,\n  1,\n  1,\n  1,\n  1,\n  1,\n  1,\n  0,\n  0,\n  1,\n  1,\n  1,\n  1,\n  1,\n  1,\n  1,\n  0,\n  1,\n  1,\n  1,\n  1,\n  1,\n  1,\n  1,\n  0,\n  1,\n  1,\n  0,\n  1,\n  1,\n  1,\n  0,\n  1,\n  1,\n  1,\n  1,\n  1,\n  1,\n  1,\n  1,\n  0,\n  1,\n  1,\n  1,\n  1,\n  1,\n  1,\n  1,\n  1,\n  1,\n  1,\n  1,\n  1,\n  0,\n  1,\n  1,\n  1,\n  0,\n  1,\n  0,\n  1,\n  1,\n  1,\n  0,\n  1,\n  0],\n [1,\n  0,\n  1,\n  1,\n  1,\n  1,\n  1,\n  0,\n  1,\n  0,\n  1,\n  1,\n  1,\n  1,\n  1,\n  1,\n  1,\n  0,\n  1,\n  0,\n  1,\n  1,\n  1,\n  1,\n  1,\n  0,\n  1,\n  1,\n  1,\n  1,\n  0,\n  1,\n  1,\n  0,\n  1,\n  1,\n  1,\n  0,\n  0,\n  1,\n  1,\n  1,\n  1,\n  1,\n  1,\n  1,\n  1,\n  1,\n  1,\n  1,\n  1,\n  1,\n  1,\n  1,\n  1,\n  1,\n  0,\n  1,\n  1,\n  1,\n  1,\n  1,\n  0,\n  0,\n  0,\n  1,\n  1,\n  1,\n  1,\n  1,\n  1,\n  1,\n  1,\n  1]]"
     },
     "execution_count": 157,
     "metadata": {},
     "output_type": "execute_result"
    }
   ],
   "source": [
    "matriz_bigramas"
   ]
  },
  {
   "cell_type": "code",
   "execution_count": 158,
   "id": "3901b7f915a599ef",
   "metadata": {
    "collapsed": false,
    "ExecuteTime": {
     "end_time": "2024-04-13T01:58:06.426746Z",
     "start_time": "2024-04-13T01:58:06.397120Z"
    }
   },
   "outputs": [
    {
     "data": {
      "text/plain": "[[0,\n  1,\n  1,\n  0,\n  1,\n  1,\n  1,\n  1,\n  0,\n  1,\n  1,\n  0,\n  1,\n  0,\n  0,\n  1,\n  1,\n  1,\n  1,\n  1,\n  1,\n  0,\n  1,\n  0,\n  1,\n  1,\n  1,\n  0,\n  1,\n  1,\n  1,\n  0,\n  1,\n  1,\n  1,\n  0,\n  1,\n  1,\n  1,\n  1,\n  1,\n  1,\n  0,\n  1,\n  1,\n  0,\n  1,\n  1,\n  1,\n  1,\n  0,\n  0,\n  0,\n  1,\n  0,\n  1,\n  1,\n  1,\n  1,\n  0,\n  1,\n  1,\n  1,\n  0,\n  1,\n  1,\n  1,\n  1,\n  1,\n  1,\n  1,\n  1,\n  1,\n  1,\n  1,\n  0,\n  0,\n  1,\n  1,\n  1],\n [1,\n  1,\n  1,\n  1,\n  1,\n  0,\n  0,\n  0,\n  1,\n  1,\n  1,\n  1,\n  1,\n  1,\n  1,\n  1,\n  0,\n  0,\n  0,\n  0,\n  1,\n  1,\n  0,\n  1,\n  0,\n  1,\n  1,\n  1,\n  0,\n  1,\n  1,\n  1,\n  0,\n  0,\n  1,\n  1,\n  1,\n  1,\n  0,\n  1,\n  1,\n  0,\n  1,\n  1,\n  1,\n  1,\n  0,\n  1,\n  1,\n  1,\n  1,\n  1,\n  1,\n  1,\n  1,\n  1,\n  1,\n  0,\n  0,\n  1,\n  0,\n  0,\n  1,\n  1,\n  1,\n  1,\n  0,\n  1,\n  1,\n  1,\n  1,\n  1,\n  1,\n  1,\n  0,\n  1,\n  1,\n  1,\n  1,\n  1]]"
     },
     "execution_count": 158,
     "metadata": {},
     "output_type": "execute_result"
    }
   ],
   "source": [
    "matriz_trigramas"
   ]
  },
  {
   "cell_type": "markdown",
   "id": "ad9cf78e55e13632",
   "metadata": {
    "ExecuteTime": {
     "end_time": "2024-04-13T00:06:56.708214Z",
     "start_time": "2024-04-13T00:06:56.701209Z"
    },
    "collapsed": false
   },
   "source": [
    "### Distancias entre parrafos con cosine similarity"
   ]
  },
  {
   "cell_type": "code",
   "execution_count": 159,
   "id": "643868793f8b7a6f",
   "metadata": {
    "collapsed": false,
    "ExecuteTime": {
     "end_time": "2024-04-13T01:58:06.426855Z",
     "start_time": "2024-04-13T01:58:06.399495Z"
    }
   },
   "outputs": [],
   "source": [
    "similitud_1 = pairwise.cosine_similarity(matriz_unigramas)\n",
    "similitud_2 = pairwise.cosine_similarity(matriz_bigramas)\n",
    "similitud_3 = pairwise.cosine_similarity(matriz_trigramas)"
   ]
  },
  {
   "cell_type": "code",
   "execution_count": 160,
   "id": "4605473720c50bf8",
   "metadata": {
    "collapsed": false,
    "ExecuteTime": {
     "end_time": "2024-04-13T01:58:06.426996Z",
     "start_time": "2024-04-13T01:58:06.402135Z"
    }
   },
   "outputs": [
    {
     "name": "stdout",
     "output_type": "stream",
     "text": [
      "similitud unigramas:  0.8775510204081639\n"
     ]
    }
   ],
   "source": [
    "print(\"similitud unigramas: \", similitud_1[0][1])"
   ]
  },
  {
   "cell_type": "code",
   "execution_count": 161,
   "id": "6ec698f56d654913",
   "metadata": {
    "collapsed": false,
    "ExecuteTime": {
     "end_time": "2024-04-13T01:58:06.427065Z",
     "start_time": "2024-04-13T01:58:06.403975Z"
    }
   },
   "outputs": [
    {
     "name": "stdout",
     "output_type": "stream",
     "text": [
      "similitud bigramas:  0.7666666666666674\n"
     ]
    }
   ],
   "source": [
    "print(\"similitud bigramas: \", similitud_2[0][1])"
   ]
  },
  {
   "cell_type": "code",
   "execution_count": 162,
   "id": "b890cf7f7bc10d3d",
   "metadata": {
    "collapsed": false,
    "ExecuteTime": {
     "end_time": "2024-04-13T01:58:06.427116Z",
     "start_time": "2024-04-13T01:58:06.405743Z"
    }
   },
   "outputs": [
    {
     "name": "stdout",
     "output_type": "stream",
     "text": [
      "similitud trigramas:  0.6440677966101693\n"
     ]
    }
   ],
   "source": [
    "print(\"similitud trigramas: \", similitud_3[0][1])"
   ]
  },
  {
   "cell_type": "markdown",
   "id": "c3cdce48c4e4a9df",
   "metadata": {
    "ExecuteTime": {
     "end_time": "2024-04-13T00:02:46.345079Z",
     "start_time": "2024-04-13T00:02:46.341551Z"
    },
    "collapsed": false
   },
   "source": [
    "### Analisis de las distancias y justificacion de cada n-grama con ventajas y desventajas"
   ]
  }
 ],
 "metadata": {
  "kernelspec": {
   "display_name": "Python 3",
   "language": "python",
   "name": "python3"
  },
  "language_info": {
   "codemirror_mode": {
    "name": "ipython",
    "version": 2
   },
   "file_extension": ".py",
   "mimetype": "text/x-python",
   "name": "python",
   "nbconvert_exporter": "python",
   "pygments_lexer": "ipython2",
   "version": "2.7.6"
  }
 },
 "nbformat": 4,
 "nbformat_minor": 5
}
