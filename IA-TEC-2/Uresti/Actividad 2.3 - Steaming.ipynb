{
 "cells": [
  {
   "cell_type": "code",
   "execution_count": 127,
   "id": "821d21159900a1b",
   "metadata": {
    "collapsed": false,
    "ExecuteTime": {
     "end_time": "2024-04-13T00:38:50.632027Z",
     "start_time": "2024-04-13T00:38:50.610968Z"
    }
   },
   "outputs": [],
   "source": [
    "import nltk\n",
    "from nltk.stem import SnowballStemmer\n",
    "from nltk.util import ngrams\n",
    "from sklearn.metrics import pairwise\n",
    "from sklearn.metrics.pairwise import cosine_similarity\n",
    "from sklearn.feature_extraction.text import TfidfVectorizer\n",
    "from sklearn.feature_extraction.text import CountVectorizer\n",
    "from sklearn.metrics.pairwise import cosine_similarity\n",
    "import re"
   ]
  },
  {
   "cell_type": "code",
   "execution_count": 128,
   "id": "606029e32d780d6f",
   "metadata": {
    "collapsed": false,
    "ExecuteTime": {
     "end_time": "2024-04-13T00:38:50.645052Z",
     "start_time": "2024-04-13T00:38:50.614599Z"
    }
   },
   "outputs": [
    {
     "name": "stderr",
     "output_type": "stream",
     "text": [
      "[nltk_data] Downloading package punkt to\n",
      "[nltk_data]     /Users/sergiogonzalez/nltk_data...\n",
      "[nltk_data]   Package punkt is already up-to-date!\n"
     ]
    },
    {
     "data": {
      "text/plain": "True"
     },
     "execution_count": 128,
     "metadata": {},
     "output_type": "execute_result"
    }
   ],
   "source": [
    "nltk.download('punkt')"
   ]
  },
  {
   "cell_type": "markdown",
   "id": "edc8dc5815727454",
   "metadata": {
    "collapsed": false
   },
   "source": [
    "### Recibe 3 parrafos con  3 oraciones"
   ]
  },
  {
   "cell_type": "code",
   "execution_count": 129,
   "id": "17d2d6afe9f10942",
   "metadata": {
    "collapsed": false,
    "ExecuteTime": {
     "end_time": "2024-04-13T00:38:50.645143Z",
     "start_time": "2024-04-13T00:38:50.619138Z"
    }
   },
   "outputs": [],
   "source": [
    "parrafo_1 = \"Esta es una prueba. De los famosos n-gramas. Se esta usando NLTK.\"\n",
    "parrafo_2 = \"Esta es otra prueba. Esto es para el ejercicio. Usando n-gramas en clase.\""
   ]
  },
  {
   "cell_type": "markdown",
   "id": "443c8bcfeed9012c",
   "metadata": {
    "collapsed": false
   },
   "source": [
    "### Utiliza steaming para pre-procesar el texto"
   ]
  },
  {
   "cell_type": "code",
   "execution_count": 130,
   "id": "8a2741bd549a68bd",
   "metadata": {
    "collapsed": false,
    "ExecuteTime": {
     "end_time": "2024-04-13T00:38:50.671482Z",
     "start_time": "2024-04-13T00:38:50.625298Z"
    }
   },
   "outputs": [],
   "source": [
    "def pre_procesamiento(parrafo):\n",
    "    parrafo = re.sub(r'[^\\w\\s]', '', parrafo)\n",
    "    tokenized_text = nltk.word_tokenize(parrafo)\n",
    "    stemmer = SnowballStemmer(\"spanish\")\n",
    "    stemmed_text = [stemmer.stem(word) for word in tokenized_text]\n",
    "    # stemmed_text = ' '.join([stemmer.stem(word) for word in tokenized_text])\n",
    "    return stemmed_text"
   ]
  },
  {
   "cell_type": "code",
   "execution_count": 131,
   "id": "97b52ffa16a1d96a",
   "metadata": {
    "collapsed": false,
    "ExecuteTime": {
     "end_time": "2024-04-13T00:38:50.704441Z",
     "start_time": "2024-04-13T00:38:50.627875Z"
    }
   },
   "outputs": [
    {
     "name": "stdout",
     "output_type": "stream",
     "text": [
      "[['esta', 'es', 'una', 'prueb', 'de', 'los', 'famos', 'ngram', 'se', 'esta', 'usand', 'nltk'], ['esta', 'es', 'otra', 'prueb', 'esto', 'es', 'par', 'el', 'ejercici', 'usand', 'ngram', 'en', 'clas']]\n"
     ]
    }
   ],
   "source": [
    "parrafos = [parrafo_1, parrafo_2]\n",
    "pre_procesados = [pre_procesamiento(parrafo) for parrafo in parrafos]\n",
    "print(pre_procesados)"
   ]
  },
  {
   "cell_type": "markdown",
   "id": "546a15aa92b4eaff",
   "metadata": {
    "collapsed": false
   },
   "source": [
    "### Calcula la distancia entre parrafos usando Unigramas, trigramas y bigramas"
   ]
  },
  {
   "cell_type": "code",
   "execution_count": 132,
   "id": "ca9e75955fdaf70",
   "metadata": {
    "collapsed": false,
    "ExecuteTime": {
     "end_time": "2024-04-13T00:38:50.704557Z",
     "start_time": "2024-04-13T00:38:50.630413Z"
    }
   },
   "outputs": [],
   "source": [
    "def connvertidor_ngrams(parrafo, n):\n",
    "    return list(nltk.ngrams(parrafo, n))"
   ]
  },
  {
   "cell_type": "code",
   "execution_count": 133,
   "id": "85b8ebe09750b299",
   "metadata": {
    "collapsed": false,
    "ExecuteTime": {
     "end_time": "2024-04-13T00:38:50.705649Z",
     "start_time": "2024-04-13T00:38:50.633123Z"
    }
   },
   "outputs": [
    {
     "name": "stdout",
     "output_type": "stream",
     "text": [
      "UNIGRAMAS:  [[('esta',), ('es',), ('una',), ('prueb',), ('de',), ('los',), ('famos',), ('ngram',), ('se',), ('esta',), ('usand',), ('nltk',)], [('esta',), ('es',), ('otra',), ('prueb',), ('esto',), ('es',), ('par',), ('el',), ('ejercici',), ('usand',), ('ngram',), ('en',), ('clas',)]]\n",
      "\n",
      "\n",
      "BIGRAMAS:  [[('esta', 'es'), ('es', 'una'), ('una', 'prueb'), ('prueb', 'de'), ('de', 'los'), ('los', 'famos'), ('famos', 'ngram'), ('ngram', 'se'), ('se', 'esta'), ('esta', 'usand'), ('usand', 'nltk')], [('esta', 'es'), ('es', 'otra'), ('otra', 'prueb'), ('prueb', 'esto'), ('esto', 'es'), ('es', 'par'), ('par', 'el'), ('el', 'ejercici'), ('ejercici', 'usand'), ('usand', 'ngram'), ('ngram', 'en'), ('en', 'clas')]]\n",
      "\n",
      "\n",
      "TRIGRAMAS:  [[('esta', 'es', 'una'), ('es', 'una', 'prueb'), ('una', 'prueb', 'de'), ('prueb', 'de', 'los'), ('de', 'los', 'famos'), ('los', 'famos', 'ngram'), ('famos', 'ngram', 'se'), ('ngram', 'se', 'esta'), ('se', 'esta', 'usand'), ('esta', 'usand', 'nltk')], [('esta', 'es', 'otra'), ('es', 'otra', 'prueb'), ('otra', 'prueb', 'esto'), ('prueb', 'esto', 'es'), ('esto', 'es', 'par'), ('es', 'par', 'el'), ('par', 'el', 'ejercici'), ('el', 'ejercici', 'usand'), ('ejercici', 'usand', 'ngram'), ('usand', 'ngram', 'en'), ('ngram', 'en', 'clas')]]\n"
     ]
    }
   ],
   "source": [
    "unigramas = [connvertidor_ngrams(parrafo, 1) for parrafo in pre_procesados]\n",
    "bigramas = [connvertidor_ngrams(parrafo, 2) for parrafo in pre_procesados]\n",
    "trigramas = [connvertidor_ngrams(parrafo, 3) for parrafo in pre_procesados]\n",
    "\n",
    "print(\"UNIGRAMAS: \", unigramas)\n",
    "print(\"\\n\")\n",
    "print(\"BIGRAMAS: \", bigramas)\n",
    "print(\"\\n\")\n",
    "print(\"TRIGRAMAS: \", trigramas)"
   ]
  },
  {
   "cell_type": "code",
   "execution_count": 134,
   "outputs": [],
   "source": [
    "# Code made by Gala Flores
    "# Modified by Sergio Gonzalez
    "def generador_de_matriz(gramas_1 ,gramas_2):\n",
    "    palabras_conjuntas = set(gramas_1 + gramas_2)\n",
    "    parrafos = [gramas_1, gramas_2]\n",
    "    matriz = []\n",
    "    \n",
    "    for parrafo in parrafos:\n",
    "        vector = []\n",
    "        for palabra in palabras_conjuntas:\n",
    "            vector.append(1 if palabra in parrafo else 0)\n",
    "        matriz.append(vector)\n",
    "    return matriz"
   ],
   "metadata": {
    "collapsed": false,
    "ExecuteTime": {
     "end_time": "2024-04-13T00:38:50.705991Z",
     "start_time": "2024-04-13T00:38:50.636745Z"
    }
   },
   "id": "3941f6136af8621a"
  },
  {
   "cell_type": "code",
   "execution_count": 135,
   "id": "12e94ba5e60e01be",
   "metadata": {
    "collapsed": false,
    "ExecuteTime": {
     "end_time": "2024-04-13T00:38:50.706415Z",
     "start_time": "2024-04-13T00:38:50.639578Z"
    }
   },
   "outputs": [],
   "source": [
    "matriz_unigramas = generador_de_matriz(unigramas[0], unigramas[1])\n",
    "matriz_bigramas = generador_de_matriz(bigramas[0], bigramas[1])\n",
    "matriz_trigramas = generador_de_matriz(trigramas[0], trigramas[1])"
   ]
  },
  {
   "cell_type": "code",
   "execution_count": 136,
   "id": "970a02d84445e4f1",
   "metadata": {
    "collapsed": false,
    "ExecuteTime": {
     "end_time": "2024-04-13T00:38:50.707100Z",
     "start_time": "2024-04-13T00:38:50.642272Z"
    }
   },
   "outputs": [
    {
     "data": {
      "text/plain": "[[1, 1, 0, 0, 1, 1, 1, 0, 0, 0, 1, 0, 1, 0, 1, 1, 1, 1],\n [0, 0, 1, 1, 1, 0, 1, 1, 1, 1, 1, 1, 0, 1, 0, 1, 1, 0]]"
     },
     "execution_count": 136,
     "metadata": {},
     "output_type": "execute_result"
    }
   ],
   "source": [
    "matriz_unigramas"
   ]
  },
  {
   "cell_type": "code",
   "execution_count": 137,
   "id": "3e5fb262f4baeb20",
   "metadata": {
    "collapsed": false,
    "ExecuteTime": {
     "end_time": "2024-04-13T00:38:50.708368Z",
     "start_time": "2024-04-13T00:38:50.645270Z"
    }
   },
   "outputs": [
    {
     "data": {
      "text/plain": "[[1, 0, 0, 0, 1, 1, 0, 0, 0, 1, 0, 1, 1, 0, 0, 1, 1, 0, 1, 1, 0, 1],\n [0, 1, 1, 1, 0, 0, 1, 1, 1, 0, 1, 0, 1, 1, 1, 0, 0, 1, 0, 0, 1, 0]]"
     },
     "execution_count": 137,
     "metadata": {},
     "output_type": "execute_result"
    }
   ],
   "source": [
    "matriz_bigramas"
   ]
  },
  {
   "cell_type": "code",
   "execution_count": 138,
   "id": "3901b7f915a599ef",
   "metadata": {
    "collapsed": false,
    "ExecuteTime": {
     "end_time": "2024-04-13T00:38:50.708430Z",
     "start_time": "2024-04-13T00:38:50.648007Z"
    }
   },
   "outputs": [
    {
     "data": {
      "text/plain": "[[0, 1, 0, 0, 0, 1, 1, 0, 0, 0, 1, 0, 0, 1, 1, 0, 1, 1, 1, 1, 0],\n [1, 0, 1, 1, 1, 0, 0, 1, 1, 1, 0, 1, 1, 0, 0, 1, 0, 0, 0, 0, 1]]"
     },
     "execution_count": 138,
     "metadata": {},
     "output_type": "execute_result"
    }
   ],
   "source": [
    "matriz_trigramas"
   ]
  },
  {
   "cell_type": "markdown",
   "id": "ad9cf78e55e13632",
   "metadata": {
    "ExecuteTime": {
     "end_time": "2024-04-13T00:06:56.708214Z",
     "start_time": "2024-04-13T00:06:56.701209Z"
    },
    "collapsed": false
   },
   "source": [
    "### Distancias entre parrafos con cosine similarity"
   ]
  },
  {
   "cell_type": "code",
   "execution_count": 139,
   "id": "643868793f8b7a6f",
   "metadata": {
    "collapsed": false,
    "ExecuteTime": {
     "end_time": "2024-04-13T00:38:50.708459Z",
     "start_time": "2024-04-13T00:38:50.651033Z"
    }
   },
   "outputs": [],
   "source": [
    "similitud_1 = pairwise.cosine_similarity(matriz_unigramas)\n",
    "similitud_2 = pairwise.cosine_similarity(matriz_bigramas)\n",
    "similitud_3 = pairwise.cosine_similarity(matriz_trigramas)"
   ]
  },
  {
   "cell_type": "code",
   "execution_count": 140,
   "id": "4605473720c50bf8",
   "metadata": {
    "collapsed": false,
    "ExecuteTime": {
     "end_time": "2024-04-13T00:38:50.708513Z",
     "start_time": "2024-04-13T00:38:50.653286Z"
    }
   },
   "outputs": [
    {
     "name": "stdout",
     "output_type": "stream",
     "text": [
      "similitud unigramas:  0.4351941398892447\n"
     ]
    }
   ],
   "source": [
    "print(\"similitud unigramas: \", similitud_1[0][1])"
   ]
  },
  {
   "cell_type": "code",
   "execution_count": 141,
   "id": "6ec698f56d654913",
   "metadata": {
    "collapsed": false,
    "ExecuteTime": {
     "end_time": "2024-04-13T00:38:50.708588Z",
     "start_time": "2024-04-13T00:38:50.655585Z"
    }
   },
   "outputs": [
    {
     "name": "stdout",
     "output_type": "stream",
     "text": [
      "similitud bigramas:  0.08703882797784893\n"
     ]
    }
   ],
   "source": [
    "print(\"similitud bigramas: \", similitud_2[0][1])"
   ]
  },
  {
   "cell_type": "code",
   "execution_count": 142,
   "id": "b890cf7f7bc10d3d",
   "metadata": {
    "collapsed": false,
    "ExecuteTime": {
     "end_time": "2024-04-13T00:38:50.708636Z",
     "start_time": "2024-04-13T00:38:50.657452Z"
    }
   },
   "outputs": [
    {
     "name": "stdout",
     "output_type": "stream",
     "text": [
      "similitud trigramas:  0.0\n"
     ]
    }
   ],
   "source": [
    "print(\"similitud trigramas: \", similitud_3[0][1])"
   ]
  },
  {
   "cell_type": "markdown",
   "id": "c3cdce48c4e4a9df",
   "metadata": {
    "ExecuteTime": {
     "end_time": "2024-04-13T00:02:46.345079Z",
     "start_time": "2024-04-13T00:02:46.341551Z"
    },
    "collapsed": false
   },
   "source": [
    "### Analisis de las distancias y justificacion de cada n-grama con ventajas y desventajas"
   ]
  }
 ],
 "metadata": {
  "kernelspec": {
   "display_name": "Python 3",
   "language": "python",
   "name": "python3"
  },
  "language_info": {
   "codemirror_mode": {
    "name": "ipython",
    "version": 2
   },
   "file_extension": ".py",
   "mimetype": "text/x-python",
   "name": "python",
   "nbconvert_exporter": "python",
   "pygments_lexer": "ipython2",
   "version": "2.7.6"
  }
 },
 "nbformat": 4,
 "nbformat_minor": 5
}
