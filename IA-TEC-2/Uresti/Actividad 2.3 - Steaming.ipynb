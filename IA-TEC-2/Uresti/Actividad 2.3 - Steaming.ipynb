{
 "cells": [
  {
   "cell_type": "code",
   "execution_count": 126,
   "id": "821d21159900a1b",
   "metadata": {
    "collapsed": false,
    "ExecuteTime": {
     "end_time": "2024-04-13T00:37:10.103785Z",
     "start_time": "2024-04-13T00:37:10.100589Z"
    }
   },
   "outputs": [],
   "source": [
    "import nltk\n",
    "from nltk.stem import SnowballStemmer\n",
    "from nltk.util import ngrams\n",
    "from sklearn.metrics import pairwise\n",
    "from sklearn.metrics.pairwise import cosine_similarity\n",
    "from sklearn.feature_extraction.text import TfidfVectorizer\n",
    "from sklearn.feature_extraction.text import CountVectorizer\n",
    "from sklearn.metrics.pairwise import cosine_similarity\n",
    "import re"
   ]
  },
  {
   "cell_type": "code",
   "execution_count": null,
   "id": "606029e32d780d6f",
   "metadata": {
    "collapsed": false
   },
   "outputs": [],
   "source": [
    "nltk.download('punkt')"
   ]
  },
  {
   "cell_type": "markdown",
   "id": "edc8dc5815727454",
   "metadata": {
    "collapsed": false
   },
   "source": [
    "### Recibe 3 parrafos con  3 oraciones"
   ]
  },
  {
   "cell_type": "code",
   "execution_count": null,
   "id": "17d2d6afe9f10942",
   "metadata": {
    "collapsed": false
   },
   "outputs": [],
   "source": [
    "parrafo_1 = \"Esta es una prueba. De los famosos n-gramas. Se esta usando NLTK.\"\n",
    "parrafo_2 = \"Esta es otra prueba. Esto es para el ejercicio. Usando n-gramas en clase.\""
   ]
  },
  {
   "cell_type": "markdown",
   "id": "443c8bcfeed9012c",
   "metadata": {
    "collapsed": false
   },
   "source": [
    "### Utiliza steaming para pre-procesar el texto"
   ]
  },
  {
   "cell_type": "code",
   "execution_count": null,
   "id": "8a2741bd549a68bd",
   "metadata": {
    "collapsed": false
   },
   "outputs": [],
   "source": [
    "def pre_procesamiento(parrafo):\n",
    "    parrafo = re.sub(r'[^\\w\\s]', '', parrafo)\n",
    "    tokenized_text = nltk.word_tokenize(parrafo)\n",
    "    stemmer = SnowballStemmer(\"spanish\")\n",
    "    stemmed_text = [stemmer.stem(word) for word in tokenized_text]\n",
    "    # stemmed_text = ' '.join([stemmer.stem(word) for word in tokenized_text])\n",
    "    return stemmed_text"
   ]
  },
  {
   "cell_type": "code",
   "execution_count": null,
   "id": "97b52ffa16a1d96a",
   "metadata": {
    "collapsed": false
   },
   "outputs": [],
   "source": [
    "parrafos = [parrafo_1, parrafo_2]\n",
    "pre_procesados = [pre_procesamiento(parrafo) for parrafo in parrafos]\n",
    "print(pre_procesados)"
   ]
  },
  {
   "cell_type": "markdown",
   "id": "546a15aa92b4eaff",
   "metadata": {
    "collapsed": false
   },
   "source": [
    "### Calcula la distancia entre parrafos usando Unigramas, trigramas y bigramas"
   ]
  },
  {
   "cell_type": "code",
   "execution_count": null,
   "id": "ca9e75955fdaf70",
   "metadata": {
    "collapsed": false
   },
   "outputs": [],
   "source": [
    "def connvertidor_ngrams(parrafo, n):\n",
    "    return list(nltk.ngrams(parrafo, n))"
   ]
  },
  {
   "cell_type": "code",
   "execution_count": null,
   "id": "85b8ebe09750b299",
   "metadata": {
    "collapsed": false
   },
   "outputs": [],
   "source": [
    "unigramas = [connvertidor_ngrams(parrafo, 1) for parrafo in pre_procesados]\n",
    "bigramas = [connvertidor_ngrams(parrafo, 2) for parrafo in pre_procesados]\n",
    "trigramas = [connvertidor_ngrams(parrafo, 3) for parrafo in pre_procesados]\n",
    "\n",
    "print(\"UNIGRAMAS: \", unigramas)\n",
    "print(\"\\n\")\n",
    "print(\"BIGRAMAS: \", bigramas)\n",
    "print(\"\\n\")\n",
    "print(\"TRIGRAMAS: \", trigramas)"
   ]
  },
  {
   "cell_type": "code",
   "execution_count": null,
   "outputs": [],
   "source": [
    "def generador_de_matriz(gramas_1 ,gramas_2):\n",
    "    palabras_conjuntas = set(gramas_1 + gramas_2)\n",
    "    parrafos = [gramas_1, gramas_2]\n",
    "    matriz = []\n",
    "    \n",
    "    for parrafo in parrafos:\n",
    "        vector = []\n",
    "        for palabra in palabras_conjuntas:\n",
    "            vector.append(1 if palabra in parrafo else 0)\n",
    "        matriz.append(vector)\n",
    "    return matriz"
   ],
   "metadata": {
    "collapsed": false
   },
   "id": "3941f6136af8621a"
  },
  {
   "cell_type": "code",
   "execution_count": null,
   "id": "12e94ba5e60e01be",
   "metadata": {
    "collapsed": false
   },
   "outputs": [],
   "source": [
    "matriz_unigramas = generador_de_matriz(unigramas[0], unigramas[1])\n",
    "matriz_bigramas = generador_de_matriz(bigramas[0], bigramas[1])\n",
    "matriz_trigramas = generador_de_matriz(trigramas[0], trigramas[1])"
   ]
  },
  {
   "cell_type": "code",
   "execution_count": null,
   "id": "970a02d84445e4f1",
   "metadata": {
    "collapsed": false
   },
   "outputs": [],
   "source": [
    "matriz_unigramas"
   ]
  },
  {
   "cell_type": "code",
   "execution_count": null,
   "id": "3e5fb262f4baeb20",
   "metadata": {
    "collapsed": false
   },
   "outputs": [],
   "source": [
    "matriz_bigramas"
   ]
  },
  {
   "cell_type": "code",
   "execution_count": null,
   "id": "3901b7f915a599ef",
   "metadata": {
    "collapsed": false
   },
   "outputs": [],
   "source": [
    "matriz_trigramas"
   ]
  },
  {
   "cell_type": "markdown",
   "id": "ad9cf78e55e13632",
   "metadata": {
    "ExecuteTime": {
     "end_time": "2024-04-13T00:06:56.708214Z",
     "start_time": "2024-04-13T00:06:56.701209Z"
    },
    "collapsed": false
   },
   "source": [
    "### Distancias entre parrafos con cosine similarity"
   ]
  },
  {
   "cell_type": "code",
   "execution_count": null,
   "id": "643868793f8b7a6f",
   "metadata": {
    "collapsed": false
   },
   "outputs": [],
   "source": [
    "similitud_1 = pairwise.cosine_similarity(matriz_unigramas)\n",
    "similitud_2 = pairwise.cosine_similarity(matriz_bigramas)\n",
    "similitud_3 = pairwise.cosine_similarity(matriz_trigramas)"
   ]
  },
  {
   "cell_type": "code",
   "execution_count": null,
   "id": "4605473720c50bf8",
   "metadata": {
    "collapsed": false
   },
   "outputs": [],
   "source": [
    "print(\"similitud unigramas: \", similitud_1[0][1])"
   ]
  },
  {
   "cell_type": "code",
   "execution_count": null,
   "id": "6ec698f56d654913",
   "metadata": {
    "collapsed": false
   },
   "outputs": [],
   "source": [
    "print(\"similitud bigramas: \", similitud_2[0][1])"
   ]
  },
  {
   "cell_type": "code",
   "execution_count": null,
   "id": "b890cf7f7bc10d3d",
   "metadata": {
    "collapsed": false
   },
   "outputs": [],
   "source": [
    "print(\"similitud trigramas: \", similitud_3[0][1])"
   ]
  },
  {
   "cell_type": "markdown",
   "id": "c3cdce48c4e4a9df",
   "metadata": {
    "ExecuteTime": {
     "end_time": "2024-04-13T00:02:46.345079Z",
     "start_time": "2024-04-13T00:02:46.341551Z"
    },
    "collapsed": false
   },
   "source": [
    "### Analisis de las distancias y justificacion de cada n-grama con ventajas y desventajas"
   ]
  }
 ],
 "metadata": {
  "kernelspec": {
   "display_name": "Python 3",
   "language": "python",
   "name": "python3"
  },
  "language_info": {
   "codemirror_mode": {
    "name": "ipython",
    "version": 2
   },
   "file_extension": ".py",
   "mimetype": "text/x-python",
   "name": "python",
   "nbconvert_exporter": "python",
   "pygments_lexer": "ipython2",
   "version": "2.7.6"
  }
 },
 "nbformat": 4,
 "nbformat_minor": 5
}
