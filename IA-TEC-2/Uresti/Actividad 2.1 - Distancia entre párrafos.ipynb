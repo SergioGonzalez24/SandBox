{
 "cells": [
  {
   "cell_type": "markdown",
   "id": "972d413b813146ef",
   "metadata": {
    "collapsed": false
   },
   "source": [
    "# Actividad 2.1 - Distancia entre párrafos\n"
   ]
  },
  {
   "cell_type": "code",
   "execution_count": 89,
   "id": "c77e1dd3a5ef6b34",
   "metadata": {
    "collapsed": false,
    "ExecuteTime": {
     "end_time": "2024-04-08T23:54:49.838335Z",
     "start_time": "2024-04-08T23:54:49.829770Z"
    }
   },
   "outputs": [],
   "source": [
    "from sklearn.metrics import pairwise\n",
    "import re"
   ]
  },
  {
   "cell_type": "code",
   "execution_count": 90,
   "outputs": [],
   "source": [
    "parrafo1 = \"Hola como estas. tú como estas esta. Tambien bien.\"\n",
    "parrafo2 = \"Hola como estas. tú como estas esta. Tambien bien.\""
   ],
   "metadata": {
    "collapsed": false,
    "ExecuteTime": {
     "end_time": "2024-04-08T23:54:49.838540Z",
     "start_time": "2024-04-08T23:54:49.832870Z"
    }
   },
   "id": "f01d73b84eaeb637"
  },
  {
   "cell_type": "code",
   "execution_count": 91,
   "outputs": [],
   "source": [
    "def tokenize_sentence(text):\n",
    "    # Dividir el texto en oraciones\n",
    "    oraciones = re.split(r'\\.|\\?|\\!', text)\n",
    "    # Eliminar oraciones vacías\n",
    "    oraciones = [oracion.strip() for oracion in oraciones if oracion]\n",
    "    return oraciones\n",
    "\n",
    "def tokenize_word(text):\n",
    "    # Dividir el texto en palabras\n",
    "    palabras = re.split(r'\\W+', text)\n",
    "    # Eliminar palabras vacías\n",
    "    palabras = [palabra.lower() for palabra in palabras if palabra]\n",
    "    return palabras"
   ],
   "metadata": {
    "collapsed": false,
    "ExecuteTime": {
     "end_time": "2024-04-08T23:54:49.839484Z",
     "start_time": "2024-04-08T23:54:49.836049Z"
    }
   },
   "id": "331694fb9805b08c"
  },
  {
   "cell_type": "code",
   "execution_count": 92,
   "outputs": [],
   "source": [
    "def generador_de_matriz(oraciones, palabras):\n",
    "    vectores = []\n",
    "    \n",
    "    for oracion in oraciones:\n",
    "        vector = []\n",
    "        for palabra in palabras:\n",
    "            if palabra in oracion:\n",
    "                vector.append(1)\n",
    "            else:\n",
    "                vector.append(0)\n",
    "        vectores.append(vector)\n",
    "    return vectores"
   ],
   "metadata": {
    "collapsed": false,
    "ExecuteTime": {
     "end_time": "2024-04-08T23:54:49.845042Z",
     "start_time": "2024-04-08T23:54:49.839047Z"
    }
   },
   "id": "1e5ad85f"
  },
  {
   "cell_type": "code",
   "execution_count": 93,
   "id": "4213eca206f5fe84",
   "metadata": {
    "collapsed": false,
    "ExecuteTime": {
     "end_time": "2024-04-08T23:54:49.851025Z",
     "start_time": "2024-04-08T23:54:49.843580Z"
    }
   },
   "outputs": [
    {
     "name": "stdout",
     "output_type": "stream",
     "text": [
      "Matriz con un solo párrafo: \n",
      " [[1, 0, 0, 0, 0, 1, 1], [1, 0, 1, 0, 0, 1, 1], [0, 0, 0, 1, 0, 0, 0]]\n",
      "Matriz con dos párrafos: \n",
      " [[1, 0, 0, 0, 0, 1, 0], [0, 1, 0, 0, 0, 0, 0], [0, 0, 1, 0, 0, 0, 0], [0, 0, 0, 1, 0, 0, 0], [0, 0, 0, 1, 1, 0, 0], [0, 0, 0, 0, 0, 1, 0], [0, 0, 0, 0, 0, 0, 1]]\n"
     ]
    }
   ],
   "source": [
    "oraciones1 = tokenize_sentence(parrafo1)\n",
    "palabras1 = set(tokenize_word(parrafo1))\n",
    "\n",
    "oraciones2 =  palabras1.union(set(tokenize_word(parrafo1)))\n",
    "palabras2 = palabras1.union(set(tokenize_word(parrafo2)))\n",
    "\n",
    "matriz_1_parrafo = generador_de_matriz(oraciones1, palabras1)\n",
    "matriz_2_parrafo = generador_de_matriz(oraciones2, palabras2)\n",
    "\n",
    "print(\"Matriz con un solo párrafo: \\n\", matriz_1_parrafo)\n",
    "print(\"Matriz con dos párrafos: \\n\", matriz_2_parrafo)"
   ]
  },
  {
   "cell_type": "code",
   "execution_count": 94,
   "id": "7561de79dc887325",
   "metadata": {
    "collapsed": false,
    "ExecuteTime": {
     "end_time": "2024-04-08T23:54:49.854718Z",
     "start_time": "2024-04-08T23:54:49.845785Z"
    }
   },
   "outputs": [
    {
     "data": {
      "text/plain": "array([[1.       , 0.8660254, 0.       ],\n       [0.8660254, 1.       , 0.       ],\n       [0.       , 0.       , 1.       ]])"
     },
     "execution_count": 94,
     "metadata": {},
     "output_type": "execute_result"
    }
   ],
   "source": [
    "# Calcular la distancia entre los vectores\n",
    "pairwise.cosine_similarity(matriz_1_parrafo)"
   ]
  },
  {
   "cell_type": "code",
   "execution_count": 95,
   "outputs": [
    {
     "name": "stdout",
     "output_type": "stream",
     "text": [
      "{'estas', 'hola', 'tú', 'bien', 'tambien', 'esta', 'como'}\n"
     ]
    }
   ],
   "source": [
    "# palabras de matriz_2_parrafo\n",
    "print(palabras2)\n"
   ],
   "metadata": {
    "collapsed": false,
    "ExecuteTime": {
     "end_time": "2024-04-08T23:54:49.855047Z",
     "start_time": "2024-04-08T23:54:49.853549Z"
    }
   },
   "id": "537d00cf9fefd4cb"
  },
  {
   "cell_type": "code",
   "execution_count": 96,
   "outputs": [
    {
     "data": {
      "text/plain": "array([[1.        , 0.        , 0.        , 0.        , 0.        ,\n        0.70710678, 0.        ],\n       [0.        , 1.        , 0.        , 0.        , 0.        ,\n        0.        , 0.        ],\n       [0.        , 0.        , 1.        , 0.        , 0.        ,\n        0.        , 0.        ],\n       [0.        , 0.        , 0.        , 1.        , 0.70710678,\n        0.        , 0.        ],\n       [0.        , 0.        , 0.        , 0.70710678, 1.        ,\n        0.        , 0.        ],\n       [0.70710678, 0.        , 0.        , 0.        , 0.        ,\n        1.        , 0.        ],\n       [0.        , 0.        , 0.        , 0.        , 0.        ,\n        0.        , 1.        ]])"
     },
     "execution_count": 96,
     "metadata": {},
     "output_type": "execute_result"
    }
   ],
   "source": [
    "pairwise.cosine_similarity(matriz_2_parrafo)"
   ],
   "metadata": {
    "collapsed": false,
    "ExecuteTime": {
     "end_time": "2024-04-08T23:54:49.859520Z",
     "start_time": "2024-04-08T23:54:49.856296Z"
    }
   },
   "id": "aa0b88d088af24a9"
  },
  {
   "cell_type": "code",
   "execution_count": 97,
   "outputs": [
    {
     "name": "stdout",
     "output_type": "stream",
     "text": [
      "0.0\n"
     ]
    }
   ],
   "source": [
    "# imprime la similitud coseno entre parrafo 1 y parrafo 2 la cual esta dentro de matriz_2_parrafo\n",
    "print(pairwise.cosine_similarity(matriz_2_parrafo)[0][1])"
   ],
   "metadata": {
    "collapsed": false,
    "ExecuteTime": {
     "end_time": "2024-04-08T23:54:49.862799Z",
     "start_time": "2024-04-08T23:54:49.859316Z"
    }
   },
   "id": "dc023dca08db1f89"
  }
 ],
 "metadata": {
  "kernelspec": {
   "display_name": "Python 3",
   "language": "python",
   "name": "python3"
  },
  "language_info": {
   "codemirror_mode": {
    "name": "ipython",
    "version": 3
   },
   "file_extension": ".py",
   "mimetype": "text/x-python",
   "name": "python",
   "nbconvert_exporter": "python",
   "pygments_lexer": "ipython3",
   "version": "3.11.4"
  }
 },
 "nbformat": 4,
 "nbformat_minor": 5
}
