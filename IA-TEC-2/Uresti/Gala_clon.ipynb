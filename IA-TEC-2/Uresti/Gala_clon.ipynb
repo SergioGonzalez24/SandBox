{
  "nbformat": 4,
  "nbformat_minor": 0,
  "metadata": {
    "colab": {
      "provenance": []
    },
    "kernelspec": {
      "name": "python3",
      "display_name": "Python 3"
    },
    "language_info": {
      "name": "python"
    }
  },
  "cells": [
    {
      "cell_type": "markdown",
      "source": [
        "# Actividad 2.3 - Stemming\n",
        "Gala Flores García - A01745037\n",
        "\n",
        "Sergio Manuel Gonzalez Vargas - A01745446\n"
      ],
      "metadata": {
        "id": "Sf7hTRBrqg5Z"
      }
    },
    {
      "cell_type": "code",
      "source": [
        "import nltk\n",
        "from nltk.stem import LancasterStemmer\n",
        "from sklearn.metrics.pairwise import cosine_similarity\n",
        "import re\n",
        "lancStemmer = LancasterStemmer()"
      ],
      "metadata": {
        "id": "3g3V1N27yKYH"
      },
      "execution_count": null,
      "outputs": []
    },
    {
      "cell_type": "code",
      "source": [
        "text1 = \"Esta es una prueba. De los famosos n-gramas. Se esta usando NLTK.\"\n",
        "text2 = \"Esta es otra prueba. Esto es para el ejercicio. Usando n-gramas en clase.\""
      ],
      "metadata": {
        "id": "iS0woQQsx2p3"
      },
      "execution_count": null,
      "outputs": []
    },
    {
      "cell_type": "code",
      "source": [
        "def get_stemmer(text):\n",
        "  palabras = set([palabra.lower() for palabra in re.findall(r'\\w+', text.lower())])\n",
        "  text_lista = []\n",
        "  for palabra in palabras:\n",
        "    nueva = lancStemmer.stem(palabra)\n",
        "    text_lista.append(nueva)\n",
        "  nuevo_texto = ' '.join(text_lista)\n",
        "  return nuevo_texto"
      ],
      "metadata": {
        "id": "YLtX-o6JzD0L"
      },
      "execution_count": null,
      "outputs": []
    },
    {
      "cell_type": "code",
      "source": [
        "get_stemmer(text1)"
      ],
      "metadata": {
        "colab": {
          "base_uri": "https://localhost:8080/",
          "height": 37
        },
        "id": "2dkw6OMdHWcL",
        "outputId": "0f499077-21de-479d-b922-174ffb0d4cde"
      },
      "execution_count": null,
      "outputs": [
        {
          "output_type": "execute_result",
          "data": {
            "text/plain": [
              "'de nltk prueb usand una es famos se los esta n gram'"
            ],
            "application/vnd.google.colaboratory.intrinsic+json": {
              "type": "string"
            }
          },
          "metadata": {},
          "execution_count": 161
        }
      ]
    },
    {
      "cell_type": "code",
      "source": [
        "from nltk.util import ngrams\n",
        "\n",
        "def get_grams(text, n):\n",
        "  text = get_stemmer(text)\n",
        "  text = re.findall(r\"\\w+\", text)\n",
        "  grams = ngrams(text,n)\n",
        "  result = []\n",
        "  for ng in grams:\n",
        "    result.append(' '.join(ng))\n",
        "  return result"
      ],
      "metadata": {
        "id": "eYwWLVUKB6B6"
      },
      "execution_count": null,
      "outputs": []
    },
    {
      "cell_type": "code",
      "source": [
        "get_grams(text1, 2)"
      ],
      "metadata": {
        "colab": {
          "base_uri": "https://localhost:8080/"
        },
        "id": "LtESYvQ3J0T3",
        "outputId": "f1d4a7c3-243f-4742-cee9-ee2a38b8d338"
      },
      "execution_count": null,
      "outputs": [
        {
          "output_type": "execute_result",
          "data": {
            "text/plain": [
              "['de nltk',\n",
              " 'nltk prueb',\n",
              " 'prueb usando',\n",
              " 'usando un',\n",
              " 'un es',\n",
              " 'es famoso',\n",
              " 'famoso se',\n",
              " 'se los',\n",
              " 'los est',\n",
              " 'est n',\n",
              " 'n grama']"
            ]
          },
          "metadata": {},
          "execution_count": 146
        }
      ]
    },
    {
      "cell_type": "code",
      "source": [
        "unigrams1 = get_grams(text1, 1)\n",
        "bigrams1 = get_grams(text1, 2)\n",
        "trigrams1 = get_grams(text1, 3)\n",
        "\n",
        "print(\"UNIGRAMAS Parrafo 1: \", unigrams1)\n",
        "print(\"\\n\")\n",
        "print(\"BIGRAMAS Parrafo 1: \", bigrams1)\n",
        "print(\"\\n\")\n",
        "print(\"TRIGRAMAS Parrafo 1: \", trigrams1)"
      ],
      "metadata": {
        "colab": {
          "base_uri": "https://localhost:8080/"
        },
        "id": "43D3RoHjpxpH",
        "outputId": "f1789134-0870-429c-9819-f1641398b642"
      },
      "execution_count": null,
      "outputs": [
        {
          "output_type": "stream",
          "name": "stdout",
          "text": [
            "UNIGRAMAS Parrafo 1:  ['de', 'nltk', 'prueb', 'usando', 'un', 'es', 'famoso', 'se', 'los', 'est', 'n', 'grama']\n",
            "\n",
            "\n",
            "BIGRAMAS Parrafo 1:  ['de nltk', 'nltk prueb', 'prueb usando', 'usando un', 'un es', 'es famoso', 'famoso se', 'se los', 'los est', 'est n', 'n grama']\n",
            "\n",
            "\n",
            "TRIGRAMAS Parrafo 1:  ['de nltk prueb', 'nltk prueb usando', 'prueb usando un', 'usando un es', 'un es famoso', 'es famoso se', 'famoso se los', 'se los est', 'los est n', 'est n grama']\n"
          ]
        }
      ]
    },
    {
      "cell_type": "code",
      "source": [
        "unigrams2 = get_grams(text2, 1)\n",
        "bigrams2 = get_grams(text2, 2)\n",
        "trigrams2 = get_grams(text2, 3)\n",
        "\n",
        "print(\"UNIGRAMAS Parrafo 2: \", unigrams2)\n",
        "print(\"\\n\")\n",
        "print(\"BIGRAMAS Parrafo 2: \", bigrams2)\n",
        "print(\"\\n\")\n",
        "print(\"TRIGRAMAS Parrafo 2: \", trigrams2)"
      ],
      "metadata": {
        "colab": {
          "base_uri": "https://localhost:8080/"
        },
        "id": "KlkK7R-epdAT",
        "outputId": "75e9e290-3983-4948-db51-078877584c87"
      },
      "execution_count": null,
      "outputs": [
        {
          "output_type": "stream",
          "name": "stdout",
          "text": [
            "UNIGRAMAS Parrafo 2:  ['otr', 'el', 'ejercicio', 'esto', 'prueb', 'usando', 'es', 'en', 'par', 'clas', 'est', 'n', 'grama']\n",
            "\n",
            "\n",
            "BIGRAMAS Parrafo 2:  ['otr el', 'el ejercicio', 'ejercicio esto', 'esto prueb', 'prueb usando', 'usando es', 'es en', 'en par', 'par clas', 'clas est', 'est n', 'n grama']\n",
            "\n",
            "\n",
            "TRIGRAMAS Parrafo 2:  ['otr el ejercicio', 'el ejercicio esto', 'ejercicio esto prueb', 'esto prueb usando', 'prueb usando es', 'usando es en', 'es en par', 'en par clas', 'par clas est', 'clas est n', 'est n grama']\n"
          ]
        }
      ]
    },
    {
      "cell_type": "code",
      "source": [
        "unigrams = [unigrams1, unigrams2]\n",
        "bigrams = [bigrams1, bigrams2]\n",
        "trigrams = [trigrams1, trigrams2]"
      ],
      "metadata": {
        "id": "Ja9zCMUfrJyu"
      },
      "execution_count": null,
      "outputs": []
    },
    {
      "cell_type": "code",
      "source": [
        "def matriz_parrafos(gramas1, gramas2):\n",
        "  unigrams_palabras = set(gramas1 + gramas2)\n",
        "  unigrams_juntos = [gramas1, gramas2]\n",
        "  matriz = []\n",
        "  for grama in unigrams_juntos:\n",
        "    vector = []\n",
        "    for palabra in unigrams_palabras:\n",
        "      vector.append(1 if palabra in grama else 0)\n",
        "    matriz.append(vector)\n",
        "  return matriz"
      ],
      "metadata": {
        "id": "xBP0jOhe0zNo"
      },
      "execution_count": null,
      "outputs": []
    },
    {
      "cell_type": "code",
      "source": [
        "matriz_parrafos(unigrams[0], unigrams[1])"
      ],
      "metadata": {
        "colab": {
          "base_uri": "https://localhost:8080/"
        },
        "id": "OlXK2P9j1uN-",
        "outputId": "09fe68b6-45bc-400d-8c91-039e38354f22"
      },
      "execution_count": null,
      "outputs": [
        {
          "output_type": "execute_result",
          "data": {
            "text/plain": [
              "[[1, 1, 1, 0, 0, 1, 0, 1, 0, 1, 0, 1, 1, 1, 1, 0, 1, 0, 1],\n",
              " [0, 0, 0, 1, 1, 0, 1, 1, 1, 1, 1, 0, 1, 0, 1, 1, 1, 1, 1]]"
            ]
          },
          "metadata": {},
          "execution_count": 151
        }
      ]
    },
    {
      "cell_type": "code",
      "source": [
        "matriz_parrafos(bigrams[0], bigrams[1])"
      ],
      "metadata": {
        "colab": {
          "base_uri": "https://localhost:8080/"
        },
        "id": "Uu9C8-jKwbGe",
        "outputId": "1f9fbc05-9f6d-4e8b-c80b-75391b3de3bb"
      },
      "execution_count": null,
      "outputs": [
        {
          "output_type": "execute_result",
          "data": {
            "text/plain": [
              "[[0, 1, 1, 0, 1, 0, 1, 1, 1, 0, 0, 0, 0, 1, 1, 1, 1, 1, 0, 0],\n",
              " [1, 0, 0, 1, 1, 1, 0, 0, 0, 1, 1, 1, 1, 0, 1, 0, 0, 1, 1, 1]]"
            ]
          },
          "metadata": {},
          "execution_count": 152
        }
      ]
    },
    {
      "cell_type": "code",
      "source": [
        "def cosine_grams(gramas1, gramas2, n):\n",
        "  matriz_parrafos(gramas1[0], gramas2[1])"
      ],
      "metadata": {
        "id": "5HQbwpuYxRcD"
      },
      "execution_count": null,
      "outputs": []
    },
    {
      "cell_type": "markdown",
      "source": [],
      "metadata": {
        "id": "QJa1N645xnn0"
      }
    },
    {
      "cell_type": "code",
      "source": [
        "similitud = cosine_similarity(matriz_parrafos(unigrams[0], unigrams[1]))\n",
        "print(similitud)\n",
        "print(\"\\nSimilitud de Coseno entre parrafo 1 y 2:\",similitud[0][1])"
      ],
      "metadata": {
        "colab": {
          "base_uri": "https://localhost:8080/"
        },
        "id": "WO8I8SKRz5El",
        "outputId": "5a7d3432-e5c1-4b3d-9fa1-aed415b231e8"
      },
      "execution_count": null,
      "outputs": [
        {
          "output_type": "stream",
          "name": "stdout",
          "text": [
            "[[1.         0.48038446]\n",
            " [0.48038446 1.        ]]\n",
            "\n",
            "Similitud de Coseno entre parrafo 1 y 2: 0.4803844614152615\n"
          ]
        }
      ]
    },
    {
      "cell_type": "code",
      "source": [
        "similitud2 = cosine_similarity(matriz_parrafos(bigrams[0], bigrams[1]))\n",
        "print(similitud)\n",
        "print(\"\\nSimilitud de Coseno entre parrafo 1 y 2:\",similitud2[0][1])"
      ],
      "metadata": {
        "colab": {
          "base_uri": "https://localhost:8080/"
        },
        "id": "aqPLgBa3u3Pq",
        "outputId": "db5648d8-4045-48da-f0f5-d4ef9f7c7b2a"
      },
      "execution_count": null,
      "outputs": [
        {
          "output_type": "stream",
          "name": "stdout",
          "text": [
            "[[1.         0.48038446]\n",
            " [0.48038446 1.        ]]\n",
            "\n",
            "Similitud de Coseno entre parrafo 1 y 2: 0.2611164839335468\n"
          ]
        }
      ]
    },
    {
      "cell_type": "code",
      "source": [
        "similitud3 = cosine_similarity(matriz_parrafos(trigrams[0], trigrams[1]))\n",
        "print(similitud)\n",
        "print(\"\\nSimilitud de Coseno entre parrafo 1 y 2:\",similitud3[0][1])"
      ],
      "metadata": {
        "colab": {
          "base_uri": "https://localhost:8080/"
        },
        "id": "-izmy4FRu9DR",
        "outputId": "fd934527-deaf-4726-c5ba-63f891932c98"
      },
      "execution_count": null,
      "outputs": [
        {
          "output_type": "stream",
          "name": "stdout",
          "text": [
            "[[1.         0.48038446]\n",
            " [0.48038446 1.        ]]\n",
            "\n",
            "Similitud de Coseno entre parrafo 1 y 2: 0.09534625892455924\n"
          ]
        }
      ]
    }
  ]
}